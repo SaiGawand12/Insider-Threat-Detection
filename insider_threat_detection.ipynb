{
 "cells": [
  {
   "cell_type": "markdown",
   "id": "2d342806",
   "metadata": {},
   "source": [
    "# Insider Threat Detection (CERT Dataset)"
   ]
  },
  {
   "cell_type": "markdown",
   "id": "79b31ce8",
   "metadata": {},
   "source": [
    "#### Merge logon.csv + file.csv, train models, save autoencoder"
   ]
  },
  {
   "cell_type": "code",
   "execution_count": 1,
   "id": "06856217",
   "metadata": {},
   "outputs": [],
   "source": [
    "import pandas as pd\n",
    "import numpy as np\n",
    "import matplotlib.pyplot as plt\n",
    "import seaborn as sns\n",
    "from sklearn.preprocessing import StandardScaler\n",
    "from sklearn.ensemble import IsolationForest\n",
    "import torch\n",
    "import torch.nn as nn\n",
    "import torch.optim as optim\n",
    "import os"
   ]
  },
  {
   "cell_type": "markdown",
   "id": "2e1d0915",
   "metadata": {},
   "source": [
    "### Load Data \n"
   ]
  },
  {
   "cell_type": "code",
   "execution_count": 2,
   "id": "d80c1a7a",
   "metadata": {},
   "outputs": [],
   "source": [
    "logon = pd.read_csv(\"data/logon.csv\")\n",
    "file = pd.read_csv(\"data/file.csv\")"
   ]
  },
  {
   "cell_type": "markdown",
   "id": "f959936b",
   "metadata": {},
   "source": [
    "### Preprocess logon"
   ]
  },
  {
   "cell_type": "code",
   "execution_count": 4,
   "id": "91523fb9",
   "metadata": {},
   "outputs": [],
   "source": [
    "logon['date'] = pd.to_datetime(logon['date'])\n",
    "logon['hour'] = logon['date'].dt.hour\n",
    "logon['dayofweek'] = logon['date'].dt.dayofweek\n",
    "\n",
    "logon_features = logon.groupby(['user', logon['date'].dt.date]).agg(\n",
    "    logon_count=('pc', 'count'),\n",
    "    unique_pcs=('pc', 'nunique'),\n",
    "    failed_logons=('activity', lambda x: (x == 'Logoff').sum())\n",
    ").reset_index()"
   ]
  },
  {
   "cell_type": "markdown",
   "id": "848c97f1",
   "metadata": {},
   "source": [
    "### Preprocess file"
   ]
  },
  {
   "cell_type": "code",
   "execution_count": 6,
   "id": "1221af30",
   "metadata": {},
   "outputs": [],
   "source": [
    "file_features = file.groupby(['user', file['date'].dt.date]).agg(\n",
    "    files_accessed=('filename', 'count')\n",
    ").reset_index()\n"
   ]
  },
  {
   "cell_type": "markdown",
   "id": "ba57b9d1",
   "metadata": {},
   "source": [
    "### Merge"
   ]
  },
  {
   "cell_type": "code",
   "execution_count": 7,
   "id": "d9a907b5",
   "metadata": {},
   "outputs": [],
   "source": [
    "df = pd.merge(logon_features, file_features, on=['user','date'], how='outer').fillna(0)\n",
    "features = ['logon_count','unique_pcs','failed_logons','files_accessed']  # remove 'total_file_size'\n"
   ]
  },
  {
   "cell_type": "markdown",
   "id": "00a554b9",
   "metadata": {},
   "source": [
    "### Feature Scaling"
   ]
  },
  {
   "cell_type": "code",
   "execution_count": 9,
   "id": "d4d9ca2b",
   "metadata": {},
   "outputs": [],
   "source": [
    "features = ['logon_count','unique_pcs','failed_logons','files_accessed']\n",
    "X = df[features].values\n",
    "scaler = StandardScaler()\n",
    "X_scaled = scaler.fit_transform(X)"
   ]
  },
  {
   "cell_type": "markdown",
   "id": "f794ba1f",
   "metadata": {},
   "source": [
    "### Isolation Forest"
   ]
  },
  {
   "cell_type": "code",
   "execution_count": 10,
   "id": "caddeb28",
   "metadata": {},
   "outputs": [],
   "source": [
    "iso = IsolationForest(contamination=0.05, random_state=42)\n",
    "df['anomaly_iso'] = iso.fit_predict(X_scaled)"
   ]
  },
  {
   "cell_type": "markdown",
   "id": "d41c0954",
   "metadata": {},
   "source": [
    "### Autoencoder"
   ]
  },
  {
   "cell_type": "code",
   "execution_count": 11,
   "id": "4c779a64",
   "metadata": {},
   "outputs": [
    {
     "name": "stdout",
     "output_type": "stream",
     "text": [
      "Epoch 0, Loss 1.0217\n",
      "Epoch 5, Loss 0.9923\n",
      "Epoch 10, Loss 0.9618\n",
      "Epoch 15, Loss 0.9288\n",
      "Epoch 20, Loss 0.8912\n",
      "Epoch 25, Loss 0.8474\n"
     ]
    }
   ],
   "source": [
    "class Autoencoder(nn.Module):\n",
    "    def __init__(self, input_dim):\n",
    "        super().__init__()\n",
    "        self.encoder = nn.Sequential(\n",
    "            nn.Linear(input_dim, 16),\n",
    "            nn.ReLU(),\n",
    "            nn.Linear(16, 8)\n",
    "        )\n",
    "        self.decoder = nn.Sequential(\n",
    "            nn.Linear(8, 16),\n",
    "            nn.ReLU(),\n",
    "            nn.Linear(16, input_dim)\n",
    "        )\n",
    "    def forward(self, x):\n",
    "        return self.decoder(self.encoder(x))\n",
    "\n",
    "input_dim = X_scaled.shape[1]\n",
    "model = Autoencoder(input_dim)\n",
    "criterion = nn.MSELoss()\n",
    "optimizer = optim.Adam(model.parameters(), lr=0.001)\n",
    "\n",
    "X_tensor = torch.tensor(X_scaled, dtype=torch.float32)\n",
    "\n",
    "for epoch in range(30):\n",
    "    output = model(X_tensor)\n",
    "    loss = criterion(output, X_tensor)\n",
    "    optimizer.zero_grad()\n",
    "    loss.backward()\n",
    "    optimizer.step()\n",
    "    if epoch % 5 == 0:\n",
    "        print(f\"Epoch {epoch}, Loss {loss.item():.4f}\")\n"
   ]
  },
  {
   "cell_type": "markdown",
   "id": "d4f7d66f",
   "metadata": {},
   "source": [
    "### Save model"
   ]
  },
  {
   "cell_type": "code",
   "execution_count": 12,
   "id": "77d2d1b5",
   "metadata": {},
   "outputs": [],
   "source": [
    "os.makedirs(\"models\", exist_ok=True)\n",
    "torch.save(model.state_dict(), \"models/autoencoder.pth\")\n"
   ]
  },
  {
   "cell_type": "markdown",
   "id": "23098c2b",
   "metadata": {},
   "source": [
    "### Reconstruction error"
   ]
  },
  {
   "cell_type": "code",
   "execution_count": 13,
   "id": "1c6f6ad5",
   "metadata": {},
   "outputs": [],
   "source": [
    "recon = model(X_tensor).detach().numpy()\n",
    "mse = np.mean(np.square(X_scaled - recon), axis=1)\n",
    "threshold = np.percentile(mse, 95)\n",
    "df['anomaly_auto'] = (mse > threshold).astype(int)"
   ]
  },
  {
   "cell_type": "markdown",
   "id": "21cc7400",
   "metadata": {},
   "source": [
    "### Visualization"
   ]
  },
  {
   "cell_type": "code",
   "execution_count": 14,
   "id": "d7030cd4",
   "metadata": {},
   "outputs": [
    {
     "data": {
      "image/png": "[encoded data removed]",
      "text/plain": [
       "<Figure size 640x480 with 1 Axes>"
      ]
     },
     "metadata": {},
     "output_type": "display_data"
    },
    {
     "data": {
      "text/html": [
       "<div>\n",
       "<style scoped>\n",
       "    .dataframe tbody tr th:only-of-type {\n",
       "        vertical-align: middle;\n",
       "    }\n",
       "\n",
       "    .dataframe tbody tr th {\n",
       "        vertical-align: top;\n",
       "    }\n",
       "\n",
       "    .dataframe thead th {\n",
       "        text-align: right;\n",
       "    }\n",
       "</style>\n",
       "<table border=\"1\" class=\"dataframe\">\n",
       "  <thead>\n",
       "    <tr style=\"text-align: right;\">\n",
       "      <th></th>\n",
       "      <th>user</th>\n",
       "      <th>date</th>\n",
       "      <th>logon_count</th>\n",
       "      <th>unique_pcs</th>\n",
       "      <th>failed_logons</th>\n",
       "      <th>files_accessed</th>\n",
       "      <th>anomaly_iso</th>\n",
       "      <th>anomaly_auto</th>\n",
       "    </tr>\n",
       "  </thead>\n",
       "  <tbody>\n",
       "    <tr>\n",
       "      <th>0</th>\n",
       "      <td>AAB0162</td>\n",
       "      <td>2010-01-04</td>\n",
       "      <td>2</td>\n",
       "      <td>1</td>\n",
       "      <td>1</td>\n",
       "      <td>0.0</td>\n",
       "      <td>1</td>\n",
       "      <td>0</td>\n",
       "    </tr>\n",
       "    <tr>\n",
       "      <th>1</th>\n",
       "      <td>AAB0162</td>\n",
       "      <td>2010-01-05</td>\n",
       "      <td>2</td>\n",
       "      <td>1</td>\n",
       "      <td>1</td>\n",
       "      <td>0.0</td>\n",
       "      <td>1</td>\n",
       "      <td>0</td>\n",
       "    </tr>\n",
       "    <tr>\n",
       "      <th>2</th>\n",
       "      <td>AAB0162</td>\n",
       "      <td>2010-01-06</td>\n",
       "      <td>2</td>\n",
       "      <td>1</td>\n",
       "      <td>1</td>\n",
       "      <td>0.0</td>\n",
       "      <td>1</td>\n",
       "      <td>0</td>\n",
       "    </tr>\n",
       "    <tr>\n",
       "      <th>3</th>\n",
       "      <td>AAB0162</td>\n",
       "      <td>2010-01-07</td>\n",
       "      <td>2</td>\n",
       "      <td>1</td>\n",
       "      <td>1</td>\n",
       "      <td>0.0</td>\n",
       "      <td>1</td>\n",
       "      <td>0</td>\n",
       "    </tr>\n",
       "    <tr>\n",
       "      <th>4</th>\n",
       "      <td>AAB0162</td>\n",
       "      <td>2010-01-08</td>\n",
       "      <td>2</td>\n",
       "      <td>1</td>\n",
       "      <td>1</td>\n",
       "      <td>0.0</td>\n",
       "      <td>1</td>\n",
       "      <td>0</td>\n",
       "    </tr>\n",
       "  </tbody>\n",
       "</table>\n",
       "</div>"
      ],
      "text/plain": [
       "      user        date  logon_count  unique_pcs  failed_logons  \\\n",
       "0  AAB0162  2010-01-04            2           1              1   \n",
       "1  AAB0162  2010-01-05            2           1              1   \n",
       "2  AAB0162  2010-01-06            2           1              1   \n",
       "3  AAB0162  2010-01-07            2           1              1   \n",
       "4  AAB0162  2010-01-08            2           1              1   \n",
       "\n",
       "   files_accessed  anomaly_iso  anomaly_auto  \n",
       "0             0.0            1             0  \n",
       "1             0.0            1             0  \n",
       "2             0.0            1             0  \n",
       "3             0.0            1             0  \n",
       "4             0.0            1             0  "
      ]
     },
     "execution_count": 14,
     "metadata": {},
     "output_type": "execute_result"
    }
   ],
   "source": [
    "sns.histplot(mse, bins=50, kde=True)\n",
    "plt.axvline(threshold, color='red')\n",
    "plt.title(\"Autoencoder Reconstruction Error\")\n",
    "plt.show()\n",
    "\n",
    "df.head()"
   ]
  },
  {
   "cell_type": "code",
   "execution_count": null,
   "id": "de3ebaa0",
   "metadata": {},
   "outputs": [],
   "source": []
  }
 ],
 "metadata": {
  "kernelspec": {
   "display_name": "Python 3",
   "language": "python",
   "name": "python3"
  },
  "language_info": {
   "codemirror_mode": {
    "name": "ipython",
    "version": 3
   },
   "file_extension": ".py",
   "mimetype": "text/x-python",
   "name": "python",
   "nbconvert_exporter": "python",
   "pygments_lexer": "ipython3",
   "version": "3.11.9"
  }
 },
 "nbformat": 4,
 "nbformat_minor": 5
}
